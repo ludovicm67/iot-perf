{
 "cells": [
  {
   "cell_type": "code",
   "execution_count": 63,
   "metadata": {},
   "outputs": [],
   "source": [
    "%matplotlib inline\n",
    "import matplotlib.pyplot as plt\n",
    "import pandas as pd\n",
    "import numpy as np\n",
    "import datetime\n",
    "import re"
   ]
  },
  {
   "cell_type": "code",
   "execution_count": 67,
   "metadata": {},
   "outputs": [
    {
     "data": {
      "text/html": [
       "<div>\n",
       "<style scoped>\n",
       "    .dataframe tbody tr th:only-of-type {\n",
       "        vertical-align: middle;\n",
       "    }\n",
       "\n",
       "    .dataframe tbody tr th {\n",
       "        vertical-align: top;\n",
       "    }\n",
       "\n",
       "    .dataframe thead th {\n",
       "        text-align: right;\n",
       "    }\n",
       "</style>\n",
       "<table border=\"1\" class=\"dataframe\">\n",
       "  <thead>\n",
       "    <tr style=\"text-align: right;\">\n",
       "      <th></th>\n",
       "      <th>request_url</th>\n",
       "      <th>request_time</th>\n",
       "      <th>response_code</th>\n",
       "      <th>status_code</th>\n",
       "      <th>uid</th>\n",
       "    </tr>\n",
       "    <tr>\n",
       "      <th>timestamp</th>\n",
       "      <th></th>\n",
       "      <th></th>\n",
       "      <th></th>\n",
       "      <th></th>\n",
       "      <th></th>\n",
       "    </tr>\n",
       "  </thead>\n",
       "  <tbody>\n",
       "    <tr>\n",
       "      <th>2020-01-02 15:51:29</th>\n",
       "      <td>coap://[2001:660:4701:f0b1::a386]/sensors/light</td>\n",
       "      <td>90</td>\n",
       "      <td>2.05</td>\n",
       "      <td>0</td>\n",
       "      <td>a386</td>\n",
       "    </tr>\n",
       "    <tr>\n",
       "      <th>2020-01-02 15:51:29</th>\n",
       "      <td>coap://[2001:660:4701:f0b1::b585]/sensors/light</td>\n",
       "      <td>2938</td>\n",
       "      <td>2.05</td>\n",
       "      <td>0</td>\n",
       "      <td>b585</td>\n",
       "    </tr>\n",
       "    <tr>\n",
       "      <th>2020-01-02 15:51:24</th>\n",
       "      <td>coap://[2001:660:4701:f0b1::b585]/sensors/light</td>\n",
       "      <td>8726</td>\n",
       "      <td>2.05</td>\n",
       "      <td>0</td>\n",
       "      <td>b585</td>\n",
       "    </tr>\n",
       "    <tr>\n",
       "      <th>2020-01-02 15:51:24</th>\n",
       "      <td>coap://[2001:660:4701:f0b1::9687]/sensors/light</td>\n",
       "      <td>8760</td>\n",
       "      <td>2.05</td>\n",
       "      <td>0</td>\n",
       "      <td>9687</td>\n",
       "    </tr>\n",
       "    <tr>\n",
       "      <th>2020-01-02 15:51:34</th>\n",
       "      <td>coap://[2001:660:4701:f0b1::a386]/sensors/light</td>\n",
       "      <td>55</td>\n",
       "      <td>2.05</td>\n",
       "      <td>0</td>\n",
       "      <td>a386</td>\n",
       "    </tr>\n",
       "    <tr>\n",
       "      <th>2020-01-02 15:51:34</th>\n",
       "      <td>coap://[2001:660:4701:f0b1::9687]/sensors/light</td>\n",
       "      <td>88</td>\n",
       "      <td>2.05</td>\n",
       "      <td>0</td>\n",
       "      <td>9687</td>\n",
       "    </tr>\n",
       "    <tr>\n",
       "      <th>2020-01-02 15:51:19</th>\n",
       "      <td>coap://[2001:660:4701:f0b1::a386]/sensors/light</td>\n",
       "      <td>16428</td>\n",
       "      <td>2.05</td>\n",
       "      <td>0</td>\n",
       "      <td>a386</td>\n",
       "    </tr>\n",
       "    <tr>\n",
       "      <th>2020-01-02 15:51:19</th>\n",
       "      <td>coap://[2001:660:4701:f0b1::9789]/sensors/light</td>\n",
       "      <td>16571</td>\n",
       "      <td>2.05</td>\n",
       "      <td>0</td>\n",
       "      <td>9789</td>\n",
       "    </tr>\n",
       "    <tr>\n",
       "      <th>2020-01-02 15:51:29</th>\n",
       "      <td>coap://[2001:660:4701:f0b1::9687]/sensors/light</td>\n",
       "      <td>7273</td>\n",
       "      <td>2.05</td>\n",
       "      <td>0</td>\n",
       "      <td>9687</td>\n",
       "    </tr>\n",
       "    <tr>\n",
       "      <th>2020-01-02 15:51:34</th>\n",
       "      <td>coap://[2001:660:4701:f0b1::b585]/sensors/light</td>\n",
       "      <td>2316</td>\n",
       "      <td>2.05</td>\n",
       "      <td>0</td>\n",
       "      <td>b585</td>\n",
       "    </tr>\n",
       "  </tbody>\n",
       "</table>\n",
       "</div>"
      ],
      "text/plain": [
       "                                                         request_url  \\\n",
       "timestamp                                                              \n",
       "2020-01-02 15:51:29  coap://[2001:660:4701:f0b1::a386]/sensors/light   \n",
       "2020-01-02 15:51:29  coap://[2001:660:4701:f0b1::b585]/sensors/light   \n",
       "2020-01-02 15:51:24  coap://[2001:660:4701:f0b1::b585]/sensors/light   \n",
       "2020-01-02 15:51:24  coap://[2001:660:4701:f0b1::9687]/sensors/light   \n",
       "2020-01-02 15:51:34  coap://[2001:660:4701:f0b1::a386]/sensors/light   \n",
       "2020-01-02 15:51:34  coap://[2001:660:4701:f0b1::9687]/sensors/light   \n",
       "2020-01-02 15:51:19  coap://[2001:660:4701:f0b1::a386]/sensors/light   \n",
       "2020-01-02 15:51:19  coap://[2001:660:4701:f0b1::9789]/sensors/light   \n",
       "2020-01-02 15:51:29  coap://[2001:660:4701:f0b1::9687]/sensors/light   \n",
       "2020-01-02 15:51:34  coap://[2001:660:4701:f0b1::b585]/sensors/light   \n",
       "\n",
       "                     request_time  response_code  status_code   uid  \n",
       "timestamp                                                            \n",
       "2020-01-02 15:51:29            90           2.05            0  a386  \n",
       "2020-01-02 15:51:29          2938           2.05            0  b585  \n",
       "2020-01-02 15:51:24          8726           2.05            0  b585  \n",
       "2020-01-02 15:51:24          8760           2.05            0  9687  \n",
       "2020-01-02 15:51:34            55           2.05            0  a386  \n",
       "2020-01-02 15:51:34            88           2.05            0  9687  \n",
       "2020-01-02 15:51:19         16428           2.05            0  a386  \n",
       "2020-01-02 15:51:19         16571           2.05            0  9789  \n",
       "2020-01-02 15:51:29          7273           2.05            0  9687  \n",
       "2020-01-02 15:51:34          2316           2.05            0  b585  "
      ]
     },
     "execution_count": 67,
     "metadata": {},
     "output_type": "execute_result"
    }
   ],
   "source": [
    "# generate all CSV files by running the zsh script\n",
    "def dateparse (time_in_secs):    \n",
    "    return datetime.datetime.fromtimestamp(float(time_in_secs))\n",
    "reg = re.compile(r'^coap://\\[[0-9a-f:]+::([0-9a-f]+)\\]\\/.*')\n",
    "df = pd.read_csv(\"coap_stats.csv\", index_col=\"timestamp\",date_parser=dateparse, parse_dates=True)\n",
    "df[\"uid\"] = df.request_url.replace(reg, r'\\1')\n",
    "df.head(10)"
   ]
  },
  {
   "cell_type": "code",
   "execution_count": 69,
   "metadata": {},
   "outputs": [],
   "source": [
    "one = df[(df[\"status_code\"] == 0)]"
   ]
  },
  {
   "cell_type": "code",
   "execution_count": 70,
   "metadata": {},
   "outputs": [
    {
     "data": {
      "text/plain": [
       "array([[<matplotlib.axes._subplots.AxesSubplot object at 0x11fa29f60>,\n",
       "        <matplotlib.axes._subplots.AxesSubplot object at 0x11faf9c50>],\n",
       "       [<matplotlib.axes._subplots.AxesSubplot object at 0x11fb150b8>,\n",
       "        <matplotlib.axes._subplots.AxesSubplot object at 0x11fb2b630>]],\n",
       "      dtype=object)"
      ]
     },
     "execution_count": 70,
     "metadata": {},
     "output_type": "execute_result"
    },
    {
     "data": {
      "image/png": "[encoded data removed]",
      "text/plain": [
       "<Figure size 432x288 with 4 Axes>"
      ]
     },
     "metadata": {
      "needs_background": "light"
     },
     "output_type": "display_data"
    }
   ],
   "source": [
    "one.request_time.hist(by=one.uid, bins=10)"
   ]
  },
  {
   "cell_type": "code",
   "execution_count": null,
   "metadata": {},
   "outputs": [],
   "source": []
  }
 ],
 "metadata": {
  "kernelspec": {
   "display_name": "Python 3",
   "language": "python",
   "name": "python3"
  },
  "language_info": {
   "codemirror_mode": {
    "name": "ipython",
    "version": 3
   },
   "file_extension": ".py",
   "mimetype": "text/x-python",
   "name": "python",
   "nbconvert_exporter": "python",
   "pygments_lexer": "ipython3",
   "version": "3.5.9"
  }
 },
 "nbformat": 4,
 "nbformat_minor": 2
}
