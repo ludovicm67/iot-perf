{
 "cells": [
  {
   "cell_type": "code",
   "execution_count": 1,
   "metadata": {},
   "outputs": [
    {
     "data": {
      "application/javascript": [
       "IPython.OutputArea.prototype._should_scroll = function(lines) {\n",
       "    return false;\n",
       "}\n"
      ],
      "text/plain": [
       "<IPython.core.display.Javascript object>"
      ]
     },
     "metadata": {},
     "output_type": "display_data"
    }
   ],
   "source": [
    "%%javascript\n",
    "IPython.OutputArea.prototype._should_scroll = function(lines) {\n",
    "    return false;\n",
    "}"
   ]
  },
  {
   "cell_type": "code",
   "execution_count": 2,
   "metadata": {},
   "outputs": [],
   "source": [
    "%matplotlib inline\n",
    "import matplotlib.pyplot as plt\n",
    "import pandas as pd\n",
    "import numpy as np\n",
    "import datetime\n",
    "import re\n",
    "from parse.config import Config\n",
    "from parse import discover"
   ]
  },
  {
   "cell_type": "code",
   "execution_count": 3,
   "metadata": {},
   "outputs": [],
   "source": [
    "# generate all CSV files by running the zsh script\n",
    "def dateparse (time_in_secs):    \n",
    "    return datetime.datetime.fromtimestamp(float(time_in_secs))\n",
    "\n",
    "files = discover.group(discover.discover('./results'))\n",
    "\n",
    "# driver_name = \"nullrdc\" | \"contiki-mac\" | \"tsch\" (or with \"-full\" suffix)\n",
    "def plot_driver(driver_name):\n",
    "\n",
    "    datas = []\n",
    "        \n",
    "    configs = files[driver_name]\n",
    "    for config_path in configs:\n",
    "        try:\n",
    "            config = Config.load(config_path)\n",
    "        except:\n",
    "            continue\n",
    "            \n",
    "        #fig, axs = plt.subplots(1, 3, figsize=(15, 7))\n",
    "        for node in config.all_nodes:\n",
    "            if node.consumption.exists():\n",
    "                df = node.conso_dataframe()\n",
    "                \n",
    "                datas.append({\n",
    "                    \"driver_name\": driver_name,\n",
    "                    \"exp_id\": config.prefix.name,\n",
    "                    \"node_id\": node.uid,\n",
    "                    \"type\": node.type.name,\n",
    "                    \"power_avg\": df[\"power\"].mean(),\n",
    "                    \"voltage_avg\": df[\"voltage\"].mean(),\n",
    "                    \"current_avg\": df[\"current\"].mean(),\n",
    "                })\n",
    "                continue\n",
    "                \n",
    "                df[\"power\"].rolling(10).mean().plot(\n",
    "                    label=\"m3-%d #%s (%s)\" % (node.num, node.uid, node.type.name),\n",
    "                    legend=True,\n",
    "                    ax=axs[0]\n",
    "                )\n",
    "                \n",
    "                df[\"voltage\"].rolling(10).mean().plot(\n",
    "                    label=\"m3-%d #%s (%s)\" % (node.num, node.uid, node.type.name),\n",
    "                    legend=True,\n",
    "                    ax=axs[1]\n",
    "                )\n",
    "                \n",
    "                df[\"current\"].rolling(10).mean().plot(\n",
    "                    label=\"m3-%d #%s (%s)\" % (node.num, node.uid, node.type.name),\n",
    "                    legend=True,\n",
    "                    ax=axs[2]\n",
    "                )\n",
    "                \n",
    "                axs[0].set_title('Puissance', fontsize=16)\n",
    "                axs[0].set_ylabel('Puissance (W)')\n",
    "                axs[0].set_xlabel('Temps (s)')\n",
    "                \n",
    "                axs[1].set_title('Voltage', fontsize=16)\n",
    "                axs[1].set_ylabel('Voltage (V)')\n",
    "                axs[1].set_xlabel('Temps (s)')\n",
    "                \n",
    "                axs[2].set_title('Courrant', fontsize=16)\n",
    "                axs[2].set_ylabel('Courrant (A)')\n",
    "                axs[2].set_xlabel('Temps (s)')\n",
    "        #fig.suptitle('Expérience #%s' % (config.prefix.name), fontsize=20)\n",
    "        #plt.show()\n",
    "    return datas\n",
    "        \n",
    "all_datas = []\n",
    "\n",
    "# reg = re.compile(r'^coap://\\[[0-9a-f:]+::([0-9a-f]+)\\]\\/.*')\n",
    "# df = pd.read_csv(\"coap_stats.csv\", index_col=\"timestamp\",date_parser=dateparse, parse_dates=True)\n",
    "# df[\"uid\"] = df.request_url.replace(reg, r'\\1')\n",
    "# df.head(10)"
   ]
  },
  {
   "cell_type": "markdown",
   "metadata": {},
   "source": [
    "# Consommation"
   ]
  },
  {
   "cell_type": "markdown",
   "metadata": {},
   "source": [
    "## NullRDC"
   ]
  },
  {
   "cell_type": "code",
   "execution_count": 4,
   "metadata": {},
   "outputs": [],
   "source": [
    "all_datas += plot_driver(\"nullrdc\")"
   ]
  },
  {
   "cell_type": "markdown",
   "metadata": {},
   "source": [
    "## NullRDC (full)"
   ]
  },
  {
   "cell_type": "code",
   "execution_count": 5,
   "metadata": {},
   "outputs": [],
   "source": [
    "all_datas += plot_driver(\"nullrdc-full\")"
   ]
  },
  {
   "cell_type": "markdown",
   "metadata": {},
   "source": [
    "## Contiki-mac"
   ]
  },
  {
   "cell_type": "code",
   "execution_count": 6,
   "metadata": {},
   "outputs": [],
   "source": [
    "all_datas += plot_driver(\"contiki-mac\")"
   ]
  },
  {
   "cell_type": "markdown",
   "metadata": {},
   "source": [
    "## Contiki-mac (full)"
   ]
  },
  {
   "cell_type": "code",
   "execution_count": 7,
   "metadata": {},
   "outputs": [],
   "source": [
    "all_datas += plot_driver(\"contiki-mac-full\")"
   ]
  },
  {
   "cell_type": "markdown",
   "metadata": {},
   "source": [
    "## TSCH"
   ]
  },
  {
   "cell_type": "code",
   "execution_count": 8,
   "metadata": {},
   "outputs": [],
   "source": [
    "all_datas += plot_driver(\"tsch\")"
   ]
  },
  {
   "cell_type": "markdown",
   "metadata": {},
   "source": [
    "## TSCH (full)"
   ]
  },
  {
   "cell_type": "code",
   "execution_count": 9,
   "metadata": {},
   "outputs": [],
   "source": [
    "all_datas += plot_driver(\"tsch-full\")"
   ]
  },
  {
   "cell_type": "code",
   "execution_count": 27,
   "metadata": {},
   "outputs": [
    {
     "data": {
      "text/plain": [
       "<matplotlib.axes._subplots.AxesSubplot at 0x7fa510109ac8>"
      ]
     },
     "execution_count": 27,
     "metadata": {},
     "output_type": "execute_result"
    },
    {
     "data": {
      "image/png": "[encoded data removed]",
      "text/plain": [
       "<Figure size 432x288 with 1 Axes>"
      ]
     },
     "metadata": {
      "needs_background": "light"
     },
     "output_type": "display_data"
    },
    {
     "data": {
      "image/png": "[encoded data removed]",
      "text/plain": [
       "<Figure size 432x288 with 1 Axes>"
      ]
     },
     "metadata": {
      "needs_background": "light"
     },
     "output_type": "display_data"
    },
    {
     "data": {
      "image/png": "[encoded data removed]",
      "text/plain": [
       "<Figure size 432x288 with 1 Axes>"
      ]
     },
     "metadata": {
      "needs_background": "light"
     },
     "output_type": "display_data"
    }
   ],
   "source": [
    "df = pd.DataFrame(all_datas)\n",
    "df.groupby(['type', 'driver_name']).mean()['power_avg'].unstack().plot.bar(rot=0)\n",
    "df.groupby(['type', 'driver_name']).mean()['current_avg'].unstack().plot.bar(rot=0)\n",
    "df.groupby(['type', 'driver_name']).mean()['voltage_avg'].unstack().plot.bar(rot=0)"
   ]
  },
  {
   "cell_type": "code",
   "execution_count": null,
   "metadata": {},
   "outputs": [],
   "source": []
  },
  {
   "cell_type": "code",
   "execution_count": 11,
   "metadata": {
    "scrolled": true
   },
   "outputs": [],
   "source": [
    "# one = df[(df[\"status_code\"] == 0)]"
   ]
  },
  {
   "cell_type": "code",
   "execution_count": 12,
   "metadata": {},
   "outputs": [],
   "source": [
    "# one.request_time.hist(by=one.uid, bins=10)"
   ]
  },
  {
   "cell_type": "code",
   "execution_count": null,
   "metadata": {},
   "outputs": [],
   "source": []
  }
 ],
 "metadata": {
  "kernelspec": {
   "display_name": "Python 3",
   "language": "python",
   "name": "python3"
  },
  "language_info": {
   "codemirror_mode": {
    "name": "ipython",
    "version": 3
   },
   "file_extension": ".py",
   "mimetype": "text/x-python",
   "name": "python",
   "nbconvert_exporter": "python",
   "pygments_lexer": "ipython3",
   "version": "3.5.9"
  }
 },
 "nbformat": 4,
 "nbformat_minor": 2
}
